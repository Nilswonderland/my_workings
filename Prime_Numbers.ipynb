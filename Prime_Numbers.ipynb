{
  "nbformat": 4,
  "nbformat_minor": 0,
  "metadata": {
    "colab": {
      "name": "Prime Numbers.ipynb",
      "provenance": [],
      "authorship_tag": "ABX9TyMg9wm5Qosk91NvvTf0lUrR",
      "include_colab_link": true
    },
    "kernelspec": {
      "name": "python3",
      "display_name": "Python 3"
    },
    "language_info": {
      "name": "python"
    }
  },
  "cells": [
    {
      "cell_type": "markdown",
      "metadata": {
        "id": "view-in-github",
        "colab_type": "text"
      },
      "source": [
        "<a href=\"https://colab.research.google.com/github/Nilswonderland/my_workings/blob/main/Prime_Numbers.ipynb\" target=\"_parent\"><img src=\"https://colab.research.google.com/assets/colab-badge.svg\" alt=\"Open In Colab\"/></a>"
      ]
    },
    {
      "cell_type": "code",
      "execution_count": 8,
      "metadata": {
        "colab": {
          "base_uri": "https://localhost:8080/"
        },
        "id": "UEsbLAhVb62S",
        "outputId": "f8d782e0-69ce-4daa-b7be-ee43f1161d2d"
      },
      "outputs": [
        {
          "output_type": "stream",
          "name": "stdout",
          "text": [
            "[2, 3, 5, 7, 11, 13, 17, 19, 23, 29, 31, 37, 41, 43, 47, 53, 59, 61, 67, 71, 73, 79, 83, 89, 97]\n"
          ]
        }
      ],
      "source": [
        "numbers = list(range(1,101))\n",
        "prime_numbers = []\n",
        "for number in numbers:\n",
        "  if number > 1:\n",
        "    for i in range(2, number):\n",
        "      if number % i == 0:\n",
        "        break\n",
        "    else:\n",
        "      prime_numbers.append(number)\n",
        "\n",
        "print(prime_numbers)\n"
      ]
    }
  ]
}