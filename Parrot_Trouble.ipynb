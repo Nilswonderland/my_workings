{
  "nbformat": 4,
  "nbformat_minor": 0,
  "metadata": {
    "colab": {
      "name": "Parrot Trouble.ipynb",
      "provenance": [],
      "authorship_tag": "ABX9TyM94rkIs4ZCRbHG7dSE7B+P",
      "include_colab_link": true
    },
    "kernelspec": {
      "name": "python3",
      "display_name": "Python 3"
    },
    "language_info": {
      "name": "python"
    }
  },
  "cells": [
    {
      "cell_type": "markdown",
      "metadata": {
        "id": "view-in-github",
        "colab_type": "text"
      },
      "source": [
        "<a href=\"https://colab.research.google.com/github/Nilswonderland/my_workings/blob/main/Parrot_Trouble.ipynb\" target=\"_parent\"><img src=\"https://colab.research.google.com/assets/colab-badge.svg\" alt=\"Open In Colab\"/></a>"
      ]
    },
    {
      "cell_type": "markdown",
      "source": [
        "# Parrot Trouble\n",
        "\n",
        "Define a function taking two parameters (talking and hour) to return True if we are in trouble.\n",
        "\n",
        "The argument to  talking parameter can only be** True or False** whether it is talking or not. The argument to hour parameter should be the current hour time in the range of **0 to 23**."
      ],
      "metadata": {
        "id": "EzIC86uuf_en"
      }
    },
    {
      "cell_type": "code",
      "execution_count": 3,
      "metadata": {
        "colab": {
          "base_uri": "https://localhost:8080/"
        },
        "id": "5ZHosVrSf-0a",
        "outputId": "fb571e94-0c2c-4996-9eba-6dc312e9db5e"
      },
      "outputs": [
        {
          "output_type": "stream",
          "name": "stdout",
          "text": [
            "False\n",
            "True\n",
            "False\n"
          ]
        }
      ],
      "source": [
        "def parrot_trouble(talking, hour):\n",
        " if talking == True :\n",
        "   if 0 <= hour <= 6 :\n",
        "     return True\n",
        "   elif 21 <= hour <= 23 :\n",
        "     return True\n",
        "   else :\n",
        "     return False\n",
        " else :\n",
        "   return False\n",
        "  \n",
        "print(parrot_trouble(True, 5))\n",
        "\n",
        "print(parrot_trouble(True, 8))\n",
        "\n",
        "print(parrot_trouble(False, 22))"
      ]
    }
  ]
}