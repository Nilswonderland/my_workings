{
  "nbformat": 4,
  "nbformat_minor": 0,
  "metadata": {
    "colab": {
      "name": "Front-back Character.ipynb",
      "provenance": [],
      "authorship_tag": "ABX9TyOzDw48O1ay4/Y7BKDMqocH",
      "include_colab_link": true
    },
    "kernelspec": {
      "name": "python3",
      "display_name": "Python 3"
    },
    "language_info": {
      "name": "python"
    }
  },
  "cells": [
    {
      "cell_type": "markdown",
      "metadata": {
        "id": "view-in-github",
        "colab_type": "text"
      },
      "source": [
        "<a href=\"https://colab.research.google.com/github/Nilswonderland/my_workings/blob/main/Front_back_Character.ipynb\" target=\"_parent\"><img src=\"https://colab.research.google.com/assets/colab-badge.svg\" alt=\"Open In Colab\"/></a>"
      ]
    },
    {
      "cell_type": "code",
      "execution_count": 1,
      "metadata": {
        "colab": {
          "base_uri": "https://localhost:8080/"
        },
        "id": "UUALsts8Nonb",
        "outputId": "12ccebf5-eac2-49a6-e531-f4c3163d56b0"
      },
      "outputs": [
        {
          "output_type": "stream",
          "name": "stdout",
          "text": [
            "yapph\n",
            "a\n",
            "ba\n"
          ]
        }
      ],
      "source": [
        "def front_back(word) :\n",
        "  if len(word) >= 2:\n",
        "    return word[-1:] + word[1:-1] + word[:1]\n",
        "  else:\n",
        "    return word\n",
        "\n",
        "print(front_back('happy'))\n",
        "print(front_back('a'))\n",
        "print(front_back('ab'))"
      ]
    }
  ]
}