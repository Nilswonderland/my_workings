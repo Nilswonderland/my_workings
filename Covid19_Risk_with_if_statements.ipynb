{
  "nbformat": 4,
  "nbformat_minor": 0,
  "metadata": {
    "colab": {
      "name": "Covid19 Risk with if statements.ipynb",
      "provenance": [],
      "authorship_tag": "ABX9TyOgHso/c2lYZVl2Qrnqe3YF",
      "include_colab_link": true
    },
    "kernelspec": {
      "name": "python3",
      "display_name": "Python 3"
    },
    "language_info": {
      "name": "python"
    }
  },
  "cells": [
    {
      "cell_type": "markdown",
      "metadata": {
        "id": "view-in-github",
        "colab_type": "text"
      },
      "source": [
        "<a href=\"https://colab.research.google.com/github/Nilswonderland/my_workings/blob/main/Covid19_Risk_with_if_statements.ipynb\" target=\"_parent\"><img src=\"https://colab.research.google.com/assets/colab-badge.svg\" alt=\"Open In Colab\"/></a>"
      ]
    },
    {
      "cell_type": "code",
      "metadata": {
        "id": "Ti6lFl4grLLk"
      },
      "source": [
        "age = input(\"Are you a cigarette addict older than 75 years old?\")\n",
        "chronic = input(\"Do you have a severe chronic disease?\")\n",
        "immune = input(\"Is your immune system too weak?\")\n",
        "\n",
        "if age == 'yes' : \n",
        "  age = True\n",
        "else :\n",
        "  age = False\n",
        "\n",
        "if chronic == 'yes':\n",
        "  chronic = True\n",
        "else :\n",
        "  chronic = False\n",
        "\n",
        "if immune == 'yes' : \n",
        "  immune = True\n",
        "else :\n",
        "  immune = False\n",
        "\n",
        "risk = ((bool(age) or bool(chronic)) or bool(immune))\n",
        "\n",
        "\n",
        "if risk is True :\n",
        "  print(\"You are in risky group\")\n",
        "else :\n",
        "  print(\"You are not in risky group\")"
      ],
      "execution_count": null,
      "outputs": []
    }
  ]
}