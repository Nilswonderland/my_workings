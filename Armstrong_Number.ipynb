{
  "nbformat": 4,
  "nbformat_minor": 0,
  "metadata": {
    "colab": {
      "name": "Armstrong Number.ipynb",
      "provenance": [],
      "authorship_tag": "ABX9TyPL/sp+h1+i5539CpldpjBb",
      "include_colab_link": true
    },
    "kernelspec": {
      "name": "python3",
      "display_name": "Python 3"
    },
    "language_info": {
      "name": "python"
    }
  },
  "cells": [
    {
      "cell_type": "markdown",
      "metadata": {
        "id": "view-in-github",
        "colab_type": "text"
      },
      "source": [
        "<a href=\"https://colab.research.google.com/github/Nilswonderland/my_workings/blob/main/Armstrong_Number.ipynb\" target=\"_parent\"><img src=\"https://colab.research.google.com/assets/colab-badge.svg\" alt=\"Open In Colab\"/></a>"
      ]
    },
    {
      "cell_type": "markdown",
      "metadata": {
        "id": "SUYEjn8VsgnW"
      },
      "source": [
        "\n",
        "Write a Python program that;\n",
        "takes a positive integer number from the user,\n",
        "checks the entered number if it is Armstrong,\n",
        "consider the negative, float and any entries other than numeric values then display a warning message to the user.\n"
      ]
    },
    {
      "cell_type": "code",
      "metadata": {
        "colab": {
          "base_uri": "https://localhost:8080/"
        },
        "id": "hjzAjWqrsgOp",
        "outputId": "fa50c7f1-66aa-489d-a604-718046edde74"
      },
      "source": [
        "number = int(input(\"Please enter a number: \")) \n",
        "check = len(str(number))\n",
        "sum = 0\n",
        "\n",
        "if number is float :\n",
        "  print(\"It is an invalid entry. Don't use non-numeric, float, or negative values!\")\n",
        "elif number <= 0 :\n",
        "  print(\"It is an invalid entry. Don't use non-numeric, float, or negative values!\")\n",
        "elif number is str :\n",
        "  print(\"It is an invalid entry. Don't use non-numeric, float, or negative values!\")\n",
        "\n",
        "\n",
        "armstrong_number = number \n",
        "while armstrong_number > 0 :\n",
        "  digit = armstrong_number % 10\n",
        "  sum += digit ** check\n",
        "  armstrong_number //= 10 \n",
        "\n",
        "if number == sum:\n",
        "  print(number, \"is an Armstrong number\")\n",
        "else:\n",
        "  print(number, \"is not an Armstrong number\")\n",
        "\n",
        "\n",
        "\n",
        "\n"
      ],
      "execution_count": null,
      "outputs": [
        {
          "output_type": "stream",
          "name": "stdout",
          "text": [
            "Please enter a number: -987\n",
            "It is an invalid entry. Don't use non-numeric, float, or negative values!\n",
            "-987 is not an Armstrong number\n"
          ]
        }
      ]
    }
  ]
}