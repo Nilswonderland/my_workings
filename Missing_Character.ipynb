{
  "nbformat": 4,
  "nbformat_minor": 0,
  "metadata": {
    "colab": {
      "name": "Missing Character.ipynb",
      "provenance": [],
      "authorship_tag": "ABX9TyNWnEbtHvr9tts+cnPMpjUn",
      "include_colab_link": true
    },
    "kernelspec": {
      "name": "python3",
      "display_name": "Python 3"
    },
    "language_info": {
      "name": "python"
    }
  },
  "cells": [
    {
      "cell_type": "markdown",
      "metadata": {
        "id": "view-in-github",
        "colab_type": "text"
      },
      "source": [
        "<a href=\"https://colab.research.google.com/github/Nilswonderland/my_workings/blob/main/Missing_Character.ipynb\" target=\"_parent\"><img src=\"https://colab.research.google.com/assets/colab-badge.svg\" alt=\"Open In Colab\"/></a>"
      ]
    },
    {
      "cell_type": "markdown",
      "source": [
        "# Task: Missing Character\n",
        "Given a non-empty string and an int n, return a new string where the character at index n has been removed. The value of n will be a valid index of a character in the original string (i.e. n will be in the range 0....len(str)-1 inclusive)."
      ],
      "metadata": {
        "id": "Yy5FQLxSOq-f"
      }
    },
    {
      "cell_type": "code",
      "execution_count": 2,
      "metadata": {
        "colab": {
          "base_uri": "https://localhost:8080/"
        },
        "id": "cLOeXcp2OlzF",
        "outputId": "d3335cbb-c876-4aa9-d3c4-a9e96fd69bb6"
      },
      "outputs": [
        {
          "output_type": "stream",
          "name": "stdout",
          "text": [
            "happy ew year\n",
            "siene\n",
            "ello\n"
          ]
        }
      ],
      "source": [
        "def missing_character(word,n) :\n",
        "  return word.replace(word[n], \"\")\n",
        "\n",
        "print(missing_character(\"happy new year\", 6))\n",
        "print(missing_character(\"science\", 1))\n",
        "print(missing_character(\"hello\", 0))"
      ]
    }
  ]
}