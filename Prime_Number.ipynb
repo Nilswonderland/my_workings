{
  "nbformat": 4,
  "nbformat_minor": 0,
  "metadata": {
    "colab": {
      "name": "Prime Number.ipynb",
      "provenance": [],
      "authorship_tag": "ABX9TyOSnZnWfYElPD8VXXOP39/S",
      "include_colab_link": true
    },
    "kernelspec": {
      "name": "python3",
      "display_name": "Python 3"
    },
    "language_info": {
      "name": "python"
    }
  },
  "cells": [
    {
      "cell_type": "markdown",
      "metadata": {
        "id": "view-in-github",
        "colab_type": "text"
      },
      "source": [
        "<a href=\"https://colab.research.google.com/github/Nilswonderland/my_workings/blob/main/Prime_Number.ipynb\" target=\"_parent\"><img src=\"https://colab.research.google.com/assets/colab-badge.svg\" alt=\"Open In Colab\"/></a>"
      ]
    },
    {
      "cell_type": "code",
      "metadata": {
        "colab": {
          "base_uri": "https://localhost:8080/"
        },
        "id": "Sni1wos5-5O0",
        "outputId": "112aef4d-df09-46b0-83a0-6e4530bdaa5e"
      },
      "source": [
        "number = int(input(\"Please enter a number: \"))\n",
        "\n",
        "if number % 2 == 1 :\n",
        "  print(number, \"is a prime number\")\n",
        "else:\n",
        "  print(number, \"is not a prime number\")\n"
      ],
      "execution_count": 9,
      "outputs": [
        {
          "output_type": "stream",
          "name": "stdout",
          "text": [
            "Please enter a number: 78\n",
            "78 is not a prime number\n"
          ]
        }
      ]
    }
  ]
}