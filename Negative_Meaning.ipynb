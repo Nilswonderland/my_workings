{
  "nbformat": 4,
  "nbformat_minor": 0,
  "metadata": {
    "colab": {
      "name": "Negative Meaning.ipynb",
      "provenance": [],
      "authorship_tag": "ABX9TyPY91AWO3xoA60RZ/F1ADwA"
    },
    "kernelspec": {
      "name": "python3",
      "display_name": "Python 3"
    },
    "language_info": {
      "name": "python"
    }
  },
  "cells": [
    {
      "cell_type": "markdown",
      "source": [
        "# Negative Meaning\n",
        "\n",
        "Define a function to take a word and return negative meaning. \n",
        "\n",
        "Given a word, return a new word where \"not \" has been added to the front. However, if the word already begins with \"not\", return the string unchanged."
      ],
      "metadata": {
        "id": "i4hiXDu0hESp"
      }
    },
    {
      "cell_type": "code",
      "execution_count": 1,
      "metadata": {
        "colab": {
          "base_uri": "https://localhost:8080/"
        },
        "id": "2bjSAnX-gxrZ",
        "outputId": "52bffbae-efa8-47a5-fa51-3875b2b56cad"
      },
      "outputs": [
        {
          "output_type": "stream",
          "name": "stdout",
          "text": [
            "not sugar\n",
            "not x\n",
            "not bad\n"
          ]
        }
      ],
      "source": [
        "def not_string(word):\n",
        "  if word.startswith(\"not\") :\n",
        "    return(word)\n",
        "  else : \n",
        "    return(\"not \" + word)\n",
        "\n",
        "print(not_string('sugar'))\n",
        "\n",
        "print(not_string('x'))\n",
        "\n",
        "print(not_string('not bad'))"
      ]
    }
  ]
}