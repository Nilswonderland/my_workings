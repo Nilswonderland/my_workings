{
  "nbformat": 4,
  "nbformat_minor": 0,
  "metadata": {
    "colab": {
      "name": "Fibonacci Numbers.ipynb",
      "provenance": [],
      "authorship_tag": "ABX9TyOrUlneg7j327tOaxXTPEmO",
      "include_colab_link": true
    },
    "kernelspec": {
      "name": "python3",
      "display_name": "Python 3"
    },
    "language_info": {
      "name": "python"
    }
  },
  "cells": [
    {
      "cell_type": "markdown",
      "metadata": {
        "id": "view-in-github",
        "colab_type": "text"
      },
      "source": [
        "<a href=\"https://colab.research.google.com/github/Nilswonderland/my_workings/blob/main/Fibonacci_Numbers.ipynb\" target=\"_parent\"><img src=\"https://colab.research.google.com/assets/colab-badge.svg\" alt=\"Open In Colab\"/></a>"
      ]
    },
    {
      "cell_type": "code",
      "execution_count": 1,
      "metadata": {
        "colab": {
          "base_uri": "https://localhost:8080/"
        },
        "id": "ihLQTd43a6sF",
        "outputId": "db10be35-661c-4bca-8bb0-564fb590d0bf"
      },
      "outputs": [
        {
          "output_type": "stream",
          "name": "stdout",
          "text": [
            "[1, 1, 2, 3, 5, 8, 13, 21, 34, 55]\n"
          ]
        }
      ],
      "source": [
        "x, y = 1, 1\n",
        "fibonacci_numbers = []\n",
        "while x <= 55 :\n",
        "  fibonacci_numbers.append(x)\n",
        "  x, y = y, x + y\n",
        "print(fibonacci_numbers)"
      ]
    }
  ]
}