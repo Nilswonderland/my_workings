{
  "nbformat": 4,
  "nbformat_minor": 0,
  "metadata": {
    "colab": {
      "name": "Doubler.ipynb",
      "provenance": [],
      "authorship_tag": "ABX9TyMIpdWpfJHKL3dwW7Rg2Ra6"
    },
    "kernelspec": {
      "name": "python3",
      "display_name": "Python 3"
    },
    "language_info": {
      "name": "python"
    }
  },
  "cells": [
    {
      "cell_type": "markdown",
      "source": [
        "# Doubler Task \n",
        "\n",
        "Given two integer values, return their sum. If the two values are the same, then return double their sum."
      ],
      "metadata": {
        "id": "0wYI6xEBhz_B"
      }
    },
    {
      "cell_type": "code",
      "execution_count": 1,
      "metadata": {
        "colab": {
          "base_uri": "https://localhost:8080/"
        },
        "id": "p1xoJhvFhs9m",
        "outputId": "291cdb45-031e-45ad-a2bf-7c29faac102d"
      },
      "outputs": [
        {
          "output_type": "stream",
          "name": "stdout",
          "text": [
            "3\n",
            "12\n",
            "20\n"
          ]
        }
      ],
      "source": [
        "def sum_double(x, y):\n",
        "    if x != y :\n",
        "      return  x + y\n",
        "    else :\n",
        "      return (x+y)*2\n",
        "\n",
        "\n",
        "print(sum_double(1, 2))\n",
        "\n",
        "print(sum_double(5, 7))\n",
        "\n",
        "print(sum_double(5, 5))"
      ]
    }
  ]
}