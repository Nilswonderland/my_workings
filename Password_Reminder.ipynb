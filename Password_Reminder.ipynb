{
  "nbformat": 4,
  "nbformat_minor": 0,
  "metadata": {
    "colab": {
      "name": "Password Reminder.ipynb",
      "provenance": [],
      "authorship_tag": "ABX9TyObpB4boRn/i9avDPOe8lsm",
      "include_colab_link": true
    },
    "kernelspec": {
      "name": "python3",
      "display_name": "Python 3"
    },
    "language_info": {
      "name": "python"
    }
  },
  "cells": [
    {
      "cell_type": "markdown",
      "metadata": {
        "id": "view-in-github",
        "colab_type": "text"
      },
      "source": [
        "<a href=\"https://colab.research.google.com/github/Nilswonderland/my_workings/blob/main/Password_Reminder.ipynb\" target=\"_parent\"><img src=\"https://colab.research.google.com/assets/colab-badge.svg\" alt=\"Open In Colab\"/></a>"
      ]
    },
    {
      "cell_type": "markdown",
      "metadata": {
        "id": "M_PTS6dhnygU"
      },
      "source": [
        "Task : Let's say; you left a message in the past that prints a password you need. To see the password you wrote, you need to enter your name and the program should recognize you.\n",
        "Write a program that \n",
        "\n",
        "Takes the first name from the user and compares it to yours,\n",
        "Then if the name the user entered is the same as yours, print out such as : \"Hello, Joseph! The password is : W@12\",\n",
        "If the name the user entered is not the same as yours, print out such as : \"Hello, Amina! See you later.\""
      ]
    },
    {
      "cell_type": "code",
      "metadata": {
        "colab": {
          "base_uri": "https://localhost:8080/"
        },
        "id": "GTg5q0KtnwrE",
        "outputId": "c421f5d0-a4d6-4742-f83c-66b0c7236318"
      },
      "source": [
        "first_name = \"Nil\"\n",
        "name = input(\"Please enter your first name: \")\n",
        "\n",
        "if name == first_name :\n",
        "  print(\"Hello\", first_name, \"!The password is: W@12\")\n",
        "else:\n",
        "  print(\"Hello\", name ,\"! See you later.\")\n"
      ],
      "execution_count": 2,
      "outputs": [
        {
          "output_type": "stream",
          "name": "stdout",
          "text": [
            "Please enter your first name: Nil\n",
            "Hello Nil !The password is: W@12\n"
          ]
        }
      ]
    }
  ]
}