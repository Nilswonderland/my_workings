{
  "nbformat": 4,
  "nbformat_minor": 0,
  "metadata": {
    "colab": {
      "name": "Find Minimum.ipynb",
      "provenance": [],
      "authorship_tag": "ABX9TyNPhcWbWizN0V7RZqXPxjnt",
      "include_colab_link": true
    },
    "kernelspec": {
      "name": "python3",
      "display_name": "Python 3"
    },
    "language_info": {
      "name": "python"
    }
  },
  "cells": [
    {
      "cell_type": "markdown",
      "metadata": {
        "id": "view-in-github",
        "colab_type": "text"
      },
      "source": [
        "<a href=\"https://colab.research.google.com/github/Nilswonderland/my_workings/blob/main/Find_Minimum.ipynb\" target=\"_parent\"><img src=\"https://colab.research.google.com/assets/colab-badge.svg\" alt=\"Open In Colab\"/></a>"
      ]
    },
    {
      "cell_type": "code",
      "execution_count": 1,
      "metadata": {
        "colab": {
          "base_uri": "https://localhost:8080/"
        },
        "id": "DPylPeVfNXpt",
        "outputId": "90b245ff-2c0c-441f-dce4-c56341f3559f"
      },
      "outputs": [
        {
          "output_type": "stream",
          "name": "stdout",
          "text": [
            "5\n",
            "-9\n",
            "-100\n"
          ]
        }
      ],
      "source": [
        "def my_min(*args) :\n",
        "    result = args[0]\n",
        "    for number in args :\n",
        "      if number < result :\n",
        "        result = number\n",
        "    return result\n",
        "\n",
        "print(my_min(5,6,7))\n",
        "print(my_min(3,8,-9,0,12,1.2))\n",
        "print(my_min(-100))"
      ]
    }
  ]
}